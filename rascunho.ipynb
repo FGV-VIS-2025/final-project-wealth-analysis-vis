{
 "cells": [
  {
   "cell_type": "code",
   "execution_count": 1,
   "metadata": {},
   "outputs": [
    {
     "data": {
      "application/vnd.plotly.v1+json": {
       "config": {
        "plotlyServerURL": "https://plot.ly"
       },
       "data": [
        {
         "branchvalues": "total",
         "domain": {
          "x": [
           0,
           1
          ],
          "y": [
           0,
           1
          ]
         },
         "hovertemplate": "labels=%{label}<br>NetWorth=%{value}<br>parent=%{parent}<br>id=%{id}<extra></extra>",
         "ids": [
          "Other/Austria/Automotive",
          "Asia/China/Automotive",
          "Europe/France/Automotive",
          "Europe/Germany/Automotive",
          "Asia/India/Automotive",
          "Other/Israel/Automotive",
          "Other/Italy/Automotive",
          "Other/Japan/Automotive",
          "Other/Singapore/Automotive",
          "Other/South Korea/Automotive",
          "Other/Switzerland/Automotive",
          "Other/Taiwan/Automotive",
          "Other/United Arab Emirates/Automotive",
          "North America/United States/Automotive",
          "Other/Vietnam/Automotive",
          "Other/Austria/Construction & Engineering",
          "North America/Canada/Construction & Engineering",
          "Asia/China/Construction & Engineering",
          "Other/Egypt/Construction & Engineering",
          "Europe/France/Construction & Engineering",
          "Asia/India/Construction & Engineering",
          "Other/Italy/Construction & Engineering",
          "Other/Malaysia/Construction & Engineering",
          "Other/Mexico/Construction & Engineering",
          "Europe/Russia/Construction & Engineering",
          "Other/South Korea/Construction & Engineering",
          "Other/Spain/Construction & Engineering",
          "Other/Switzerland/Construction & Engineering",
          "Other/Turkey/Construction & Engineering",
          "Other/United Arab Emirates/Construction & Engineering",
          "Europe/United Kingdom/Construction & Engineering",
          "North America/United States/Construction & Engineering",
          "Other/Argentina/Diversified",
          "Oceania/Australia/Diversified",
          "Other/Austria/Diversified",
          "South America/Brazil/Diversified",
          "Other/British Virgin Islands/Diversified",
          "North America/Canada/Diversified",
          "Other/Chile/Diversified",
          "Asia/China/Diversified",
          "Other/Egypt/Diversified",
          "Other/Finland/Diversified",
          "Europe/France/Diversified",
          "Europe/Germany/Diversified",
          "Other/Greece/Diversified",
          "Other/Hong Kong/Diversified",
          "Other/Hungary/Diversified",
          "Asia/India/Diversified",
          "Other/Indonesia/Diversified",
          "Other/Israel/Diversified",
          "Other/Italy/Diversified",
          "Other/Malaysia/Diversified",
          "Other/Mexico/Diversified",
          "Other/Monaco/Diversified",
          "Other/Morocco/Diversified",
          "Other/Nepal/Diversified",
          "Other/Nigeria/Diversified",
          "Other/Norway/Diversified",
          "Other/Oman/Diversified",
          "Other/Peru/Diversified",
          "Other/Philippines/Diversified",
          "Other/Poland/Diversified",
          "Other/Portugal/Diversified",
          "Other/Qatar/Diversified",
          "Europe/Russia/Diversified",
          "Other/Singapore/Diversified",
          "Other/South Korea/Diversified",
          "Other/Sweden/Diversified",
          "Other/Switzerland/Diversified",
          "Other/Taiwan/Diversified",
          "Other/Tanzania/Diversified",
          "Other/Thailand/Diversified",
          "Other/Turkey/Diversified",
          "Other/Ukraine/Diversified",
          "Other/United Arab Emirates/Diversified",
          "Europe/United Kingdom/Diversified",
          "North America/United States/Diversified",
          "Other/Vietnam/Diversified",
          "Other/Argentina/Energy",
          "Oceania/Australia/Energy",
          "South America/Brazil/Energy",
          "North America/Canada/Energy",
          "Asia/China/Energy",
          "Other/Czech Republic/Energy",
          "Other/Finland/Energy",
          "Europe/France/Energy",
          "Other/Greece/Energy",
          "Other/Hong Kong/Energy",
          "Other/Indonesia/Energy",
          "Other/Italy/Energy",
          "Europe/Russia/Energy",
          "Other/Singapore/Energy",
          "Other/Switzerland/Energy",
          "Other/Thailand/Energy",
          "Other/Turkey/Energy",
          "Europe/United Kingdom/Energy",
          "North America/United States/Energy",
          "Other/Uruguay/Energy",
          "Oceania/Australia/Fashion & Retail",
          "Other/Austria/Fashion & Retail",
          "Other/Bahamas/Fashion & Retail",
          "South America/Brazil/Fashion & Retail",
          "North America/Canada/Fashion & Retail",
          "Other/Cayman Islands/Fashion & Retail",
          "Other/Chile/Fashion & Retail",
          "Asia/China/Fashion & Retail",
          "Other/Cyprus/Fashion & Retail",
          "Other/Denmark/Fashion & Retail",
          "Other/Eswatini (Swaziland)/Fashion & Retail",
          "Europe/France/Fashion & Retail",
          "Europe/Germany/Fashion & Retail",
          "Other/Hong Kong/Fashion & Retail",
          "Asia/India/Fashion & Retail",
          "Other/Indonesia/Fashion & Retail",
          "Other/Italy/Fashion & Retail",
          "Other/Japan/Fashion & Retail",
          "Other/Luxembourg/Fashion & Retail",
          "Other/Malaysia/Fashion & Retail",
          "Other/Mexico/Fashion & Retail",
          "Other/Monaco/Fashion & Retail",
          "Other/Norway/Fashion & Retail",
          "Other/Poland/Fashion & Retail",
          "Other/Romania/Fashion & Retail",
          "Europe/Russia/Fashion & Retail",
          "Other/Singapore/Fashion & Retail",
          "Other/South Africa/Fashion & Retail",
          "Other/South Korea/Fashion & Retail",
          "Other/Spain/Fashion & Retail",
          "Other/Sweden/Fashion & Retail",
          "Other/Switzerland/Fashion & Retail",
          "Other/Taiwan/Fashion & Retail",
          "Other/Turkey/Fashion & Retail",
          "Other/United Arab Emirates/Fashion & Retail",
          "Europe/United Kingdom/Fashion & Retail",
          "North America/United States/Fashion & Retail",
          "Other/Armenia/Finance & Investments",
          "Oceania/Australia/Finance & Investments",
          "Other/Bahamas/Finance & Investments",
          "Other/Belgium/Finance & Investments",
          "South America/Brazil/Finance & Investments",
          "North America/Canada/Finance & Investments",
          "Other/Cayman Islands/Finance & Investments",
          "Other/Chile/Finance & Investments",
          "Asia/China/Finance & Investments",
          "Other/Colombia/Finance & Investments",
          "Other/Czech Republic/Finance & Investments",
          "Europe/France/Finance & Investments",
          "Other/Georgia/Finance & Investments",
          "Europe/Germany/Finance & Investments",
          "Other/Guernsey/Finance & Investments",
          "Other/Hong Kong/Finance & Investments",
          "Asia/India/Finance & Investments",
          "Other/Indonesia/Finance & Investments",
          "Other/Ireland/Finance & Investments",
          "Other/Israel/Finance & Investments",
          "Other/Italy/Finance & Investments",
          "Other/Kazakhstan/Finance & Investments",
          "Other/Latvia/Finance & Investments",
          "Other/Mexico/Finance & Investments",
          "Other/Monaco/Finance & Investments",
          "Other/Morocco/Finance & Investments",
          "Other/Netherlands/Finance & Investments",
          "Other/New Zealand/Finance & Investments",
          "Other/Peru/Finance & Investments",
          "Other/Poland/Finance & Investments",
          "Other/Qatar/Finance & Investments",
          "Other/Romania/Finance & Investments",
          "Europe/Russia/Finance & Investments",
          "Other/Singapore/Finance & Investments",
          "Other/Slovakia/Finance & Investments",
          "Other/South Africa/Finance & Investments",
          "Other/South Korea/Finance & Investments",
          "Other/Spain/Finance & Investments",
          "Other/Sweden/Finance & Investments",
          "Other/Switzerland/Finance & Investments",
          "Other/Taiwan/Finance & Investments",
          "Other/Thailand/Finance & Investments",
          "Other/Turks and Caicos Islands/Finance & Investments",
          "Other/United Arab Emirates/Finance & Investments",
          "Europe/United Kingdom/Finance & Investments",
          "North America/United States/Finance & Investments",
          "Other/Vietnam/Finance & Investments",
          "Other/Algeria/Food & Beverage",
          "Oceania/Australia/Food & Beverage",
          "Other/Austria/Food & Beverage",
          "Other/Belgium/Food & Beverage",
          "Other/Bermuda/Food & Beverage",
          "South America/Brazil/Food & Beverage",
          "North America/Canada/Food & Beverage",
          "Asia/China/Food & Beverage",
          "Other/Czech Republic/Food & Beverage",
          "Europe/France/Food & Beverage",
          "Europe/Germany/Food & Beverage",
          "Other/Hong Kong/Food & Beverage",
          "Asia/India/Food & Beverage",
          "Other/Indonesia/Food & Beverage",
          "Other/Ireland/Food & Beverage",
          "Other/Israel/Food & Beverage",
          "Other/Italy/Food & Beverage",
          "Other/Japan/Food & Beverage",
          "Other/Mexico/Food & Beverage",
          "Other/Monaco/Food & Beverage",
          "Other/Norway/Food & Beverage",
          "Other/Philippines/Food & Beverage",
          "Europe/Russia/Food & Beverage",
          "Other/Singapore/Food & Beverage",
          "Other/Spain/Food & Beverage",
          "Other/Switzerland/Food & Beverage",
          "Other/Taiwan/Food & Beverage",
          "Other/Thailand/Food & Beverage",
          "Other/Turkey/Food & Beverage",
          "Other/United Arab Emirates/Food & Beverage",
          "Europe/United Kingdom/Food & Beverage",
          "North America/United States/Food & Beverage",
          "Other/Vietnam/Food & Beverage",
          "Other/Austria/Gambling & Casinos",
          "Other/Cambodia/Gambling & Casinos",
          "Europe/Germany/Gambling & Casinos",
          "Other/Hong Kong/Gambling & Casinos",
          "Other/Israel/Gambling & Casinos",
          "Other/Japan/Gambling & Casinos",
          "Other/Malaysia/Gambling & Casinos",
          "Other/Spain/Gambling & Casinos",
          "Other/Sweden/Gambling & Casinos",
          "Other/Switzerland/Gambling & Casinos",
          "Europe/United Kingdom/Gambling & Casinos",
          "North America/United States/Gambling & Casinos",
          "South America/Brazil/Healthcare",
          "Asia/China/Healthcare",
          "Other/Denmark/Healthcare",
          "Other/Finland/Healthcare",
          "Europe/France/Healthcare",
          "Europe/Germany/Healthcare",
          "Other/Hong Kong/Healthcare",
          "Asia/India/Healthcare",
          "Other/Israel/Healthcare",
          "Other/Italy/Healthcare",
          "Other/Japan/Healthcare",
          "Other/Liechtenstein/Healthcare",
          "Other/Monaco/Healthcare",
          "Other/Poland/Healthcare",
          "Europe/Russia/Healthcare",
          "Other/Singapore/Healthcare",
          "Other/South Korea/Healthcare",
          "Other/Switzerland/Healthcare",
          "Other/Thailand/Healthcare",
          "Other/Turkey/Healthcare",
          "Other/United Arab Emirates/Healthcare",
          "Europe/United Kingdom/Healthcare",
          "North America/United States/Healthcare",
          "Oceania/Australia/Logistics",
          "Asia/China/Logistics",
          "Europe/France/Logistics",
          "Other/Greece/Logistics",
          "Other/Hong Kong/Logistics",
          "Asia/India/Logistics",
          "Other/Indonesia/Logistics",
          "Other/Japan/Logistics",
          "Other/Malaysia/Logistics",
          "Other/Norway/Logistics",
          "Other/Philippines/Logistics",
          "Europe/Russia/Logistics",
          "Other/Switzerland/Logistics",
          "Other/Taiwan/Logistics",
          "Europe/United Kingdom/Logistics",
          "North America/United States/Logistics",
          "Other/Andorra/Manufacturing",
          "Oceania/Australia/Manufacturing",
          "Other/Austria/Manufacturing",
          "Other/Belgium/Manufacturing",
          "South America/Brazil/Manufacturing",
          "North America/Canada/Manufacturing",
          "Asia/China/Manufacturing",
          "Other/Denmark/Manufacturing",
          "Other/Finland/Manufacturing",
          "Europe/France/Manufacturing",
          "Europe/Germany/Manufacturing",
          "Other/Hong Kong/Manufacturing",
          "Other/Hungary/Manufacturing",
          "Asia/India/Manufacturing",
          "Other/Indonesia/Manufacturing",
          "Other/Ireland/Manufacturing",
          "Other/Israel/Manufacturing",
          "Other/Italy/Manufacturing",
          "Other/Japan/Manufacturing",
          "Other/Malaysia/Manufacturing",
          "Other/Mexico/Manufacturing",
          "Other/Monaco/Manufacturing",
          "Other/Netherlands/Manufacturing",
          "Other/Nigeria/Manufacturing",
          "Europe/Russia/Manufacturing",
          "Other/Singapore/Manufacturing",
          "Other/South Korea/Manufacturing",
          "Other/Spain/Manufacturing",
          "Other/Sweden/Manufacturing",
          "Other/Switzerland/Manufacturing",
          "Other/Taiwan/Manufacturing",
          "Other/Thailand/Manufacturing",
          "Other/Turkey/Manufacturing",
          "Europe/United Kingdom/Manufacturing",
          "North America/United States/Manufacturing",
          "Other/Vietnam/Manufacturing",
          "Oceania/Australia/Media & Entertainment",
          "South America/Brazil/Media & Entertainment",
          "North America/Canada/Media & Entertainment",
          "Other/Cayman Islands/Media & Entertainment",
          "Asia/China/Media & Entertainment",
          "Europe/Germany/Media & Entertainment",
          "Asia/India/Media & Entertainment",
          "Other/Indonesia/Media & Entertainment",
          "Other/Israel/Media & Entertainment",
          "Other/Japan/Media & Entertainment",
          "Other/Netherlands/Media & Entertainment",
          "Other/New Zealand/Media & Entertainment",
          "Other/Poland/Media & Entertainment",
          "Other/Singapore/Media & Entertainment",
          "Other/South Africa/Media & Entertainment",
          "Other/South Korea/Media & Entertainment",
          "Other/Sweden/Media & Entertainment",
          "Other/Thailand/Media & Entertainment",
          "Other/Turkey/Media & Entertainment",
          "Europe/United Kingdom/Media & Entertainment",
          "North America/United States/Media & Entertainment",
          "Oceania/Australia/Metals & Mining",
          "Other/Chile/Metals & Mining",
          "Asia/China/Metals & Mining",
          "Other/Czech Republic/Metals & Mining",
          "Asia/India/Metals & Mining",
          "Other/Indonesia/Metals & Mining",
          "Other/Israel/Metals & Mining",
          "Other/Italy/Metals & Mining",
          "Other/Kazakhstan/Metals & Mining",
          "Other/Mexico/Metals & Mining",
          "Europe/Russia/Metals & Mining",
          "Other/Singapore/Metals & Mining",
          "Other/South Africa/Metals & Mining",
          "Other/Spain/Metals & Mining",
          "Other/Switzerland/Metals & Mining",
          "Other/Ukraine/Metals & Mining",
          "Other/United Arab Emirates/Metals & Mining",
          "Europe/United Kingdom/Metals & Mining",
          "North America/United States/Metals & Mining",
          "Other/Uzbekistan/Metals & Mining",
          "Other/Argentina/Real Estate",
          "Oceania/Australia/Real Estate",
          "Other/Austria/Real Estate",
          "South America/Brazil/Real Estate",
          "North America/Canada/Real Estate",
          "Asia/China/Real Estate",
          "Europe/France/Real Estate",
          "Europe/Germany/Real Estate",
          "Other/Hong Kong/Real Estate",
          "Asia/India/Real Estate",
          "Other/Israel/Real Estate",
          "Other/Japan/Real Estate",
          "Other/Malaysia/Real Estate",
          "Other/Monaco/Real Estate",
          "Other/Netherlands/Real Estate",
          "Other/Norway/Real Estate",
          "Other/Philippines/Real Estate",
          "Europe/Russia/Real Estate",
          "Other/Singapore/Real Estate",
          "Other/Slovakia/Real Estate",
          "Other/Spain/Real Estate",
          "Other/Sweden/Real Estate",
          "Other/Switzerland/Real Estate",
          "Other/Taiwan/Real Estate",
          "Other/Thailand/Real Estate",
          "Other/United Arab Emirates/Real Estate",
          "Europe/United Kingdom/Real Estate",
          "North America/United States/Real Estate",
          "Other/Bahrain/Service",
          "Asia/China/Service",
          "Europe/France/Service",
          "Europe/Germany/Service",
          "Other/Hong Kong/Service",
          "Asia/India/Service",
          "Other/Israel/Service",
          "Other/Japan/Service",
          "Other/Mexico/Service",
          "Other/Monaco/Service",
          "Other/Netherlands/Service",
          "Other/Norway/Service",
          "Europe/Russia/Service",
          "Other/Spain/Service",
          "Other/Switzerland/Service",
          "Other/United Arab Emirates/Service",
          "North America/United States/Service",
          "North America/Canada/Sports",
          "Other/Monaco/Sports",
          "Other/Switzerland/Sports",
          "Europe/United Kingdom/Sports",
          "North America/United States/Sports",
          "Other/Argentina/Technology",
          "Oceania/Australia/Technology",
          "North America/Canada/Technology",
          "Asia/China/Technology",
          "Other/Cyprus/Technology",
          "Other/Czech Republic/Technology",
          "Europe/Germany/Technology",
          "Other/Hong Kong/Technology",
          "Asia/India/Technology",
          "Other/Indonesia/Technology",
          "Other/Israel/Technology",
          "Other/Italy/Technology",
          "Other/Japan/Technology",
          "Other/Netherlands/Technology",
          "Europe/Russia/Technology",
          "Other/Singapore/Technology",
          "Other/South Korea/Technology",
          "Other/Sweden/Technology",
          "Other/Switzerland/Technology",
          "Other/Taiwan/Technology",
          "Other/United Arab Emirates/Technology",
          "Europe/United Kingdom/Technology",
          "North America/United States/Technology",
          "Oceania/Australia/Telecom",
          "North America/Canada/Telecom",
          "Asia/China/Telecom",
          "Other/Cyprus/Telecom",
          "Other/Egypt/Telecom",
          "Europe/France/Telecom",
          "Other/Hong Kong/Telecom",
          "Asia/India/Telecom",
          "Other/Ireland/Telecom",
          "Other/Italy/Telecom",
          "Other/Japan/Telecom",
          "Other/Lebanon/Telecom",
          "Other/Malaysia/Telecom",
          "Other/Mexico/Telecom",
          "Europe/Russia/Telecom",
          "Other/Switzerland/Telecom",
          "Other/Turkey/Telecom",
          "Europe/United Kingdom/Telecom",
          "North America/United States/Telecom",
          "Other/Algeria",
          "Other/Andorra",
          "Other/Argentina",
          "Other/Armenia",
          "Oceania/Australia",
          "Other/Austria",
          "Other/Bahamas",
          "Other/Bahrain",
          "Other/Belgium",
          "Other/Bermuda",
          "South America/Brazil",
          "Other/British Virgin Islands",
          "Other/Cambodia",
          "North America/Canada",
          "Other/Cayman Islands",
          "Other/Chile",
          "Asia/China",
          "Other/Colombia",
          "Other/Cyprus",
          "Other/Czech Republic",
          "Other/Denmark",
          "Other/Egypt",
          "Other/Eswatini (Swaziland)",
          "Other/Finland",
          "Europe/France",
          "Other/Georgia",
          "Europe/Germany",
          "Other/Greece",
          "Other/Guernsey",
          "Other/Hong Kong",
          "Other/Hungary",
          "Asia/India",
          "Other/Indonesia",
          "Other/Ireland",
          "Other/Israel",
          "Other/Italy",
          "Other/Japan",
          "Other/Kazakhstan",
          "Other/Latvia",
          "Other/Lebanon",
          "Other/Liechtenstein",
          "Other/Luxembourg",
          "Other/Malaysia",
          "Other/Mexico",
          "Other/Monaco",
          "Other/Morocco",
          "Other/Nepal",
          "Other/Netherlands",
          "Other/New Zealand",
          "Other/Nigeria",
          "Other/Norway",
          "Other/Oman",
          "Other/Peru",
          "Other/Philippines",
          "Other/Poland",
          "Other/Portugal",
          "Other/Qatar",
          "Other/Romania",
          "Europe/Russia",
          "Other/Singapore",
          "Other/Slovakia",
          "Other/South Africa",
          "Other/South Korea",
          "Other/Spain",
          "Other/Sweden",
          "Other/Switzerland",
          "Other/Taiwan",
          "Other/Tanzania",
          "Other/Thailand",
          "Other/Turkey",
          "Other/Turks and Caicos Islands",
          "Other/Ukraine",
          "Other/United Arab Emirates",
          "Europe/United Kingdom",
          "North America/United States",
          "Other/Uruguay",
          "Other/Uzbekistan",
          "Other/Vietnam",
          "Asia",
          "Europe",
          "North America",
          "Oceania",
          "Other",
          "South America"
         ],
         "labels": [
          "Automotive",
          "Automotive",
          "Automotive",
          "Automotive",
          "Automotive",
          "Automotive",
          "Automotive",
          "Automotive",
          "Automotive",
          "Automotive",
          "Automotive",
          "Automotive",
          "Automotive",
          "Automotive",
          "Automotive",
          "Construction & Engineering",
          "Construction & Engineering",
          "Construction & Engineering",
          "Construction & Engineering",
          "Construction & Engineering",
          "Construction & Engineering",
          "Construction & Engineering",
          "Construction & Engineering",
          "Construction & Engineering",
          "Construction & Engineering",
          "Construction & Engineering",
          "Construction & Engineering",
          "Construction & Engineering",
          "Construction & Engineering",
          "Construction & Engineering",
          "Construction & Engineering",
          "Construction & Engineering",
          "Diversified",
          "Diversified",
          "Diversified",
          "Diversified",
          "Diversified",
          "Diversified",
          "Diversified",
          "Diversified",
          "Diversified",
          "Diversified",
          "Diversified",
          "Diversified",
          "Diversified",
          "Diversified",
          "Diversified",
          "Diversified",
          "Diversified",
          "Diversified",
          "Diversified",
          "Diversified",
          "Diversified",
          "Diversified",
          "Diversified",
          "Diversified",
          "Diversified",
          "Diversified",
          "Diversified",
          "Diversified",
          "Diversified",
          "Diversified",
          "Diversified",
          "Diversified",
          "Diversified",
          "Diversified",
          "Diversified",
          "Diversified",
          "Diversified",
          "Diversified",
          "Diversified",
          "Diversified",
          "Diversified",
          "Diversified",
          "Diversified",
          "Diversified",
          "Diversified",
          "Diversified",
          "Energy",
          "Energy",
          "Energy",
          "Energy",
          "Energy",
          "Energy",
          "Energy",
          "Energy",
          "Energy",
          "Energy",
          "Energy",
          "Energy",
          "Energy",
          "Energy",
          "Energy",
          "Energy",
          "Energy",
          "Energy",
          "Energy",
          "Energy",
          "Fashion & Retail",
          "Fashion & Retail",
          "Fashion & Retail",
          "Fashion & Retail",
          "Fashion & Retail",
          "Fashion & Retail",
          "Fashion & Retail",
          "Fashion & Retail",
          "Fashion & Retail",
          "Fashion & Retail",
          "Fashion & Retail",
          "Fashion & Retail",
          "Fashion & Retail",
          "Fashion & Retail",
          "Fashion & Retail",
          "Fashion & Retail",
          "Fashion & Retail",
          "Fashion & Retail",
          "Fashion & Retail",
          "Fashion & Retail",
          "Fashion & Retail",
          "Fashion & Retail",
          "Fashion & Retail",
          "Fashion & Retail",
          "Fashion & Retail",
          "Fashion & Retail",
          "Fashion & Retail",
          "Fashion & Retail",
          "Fashion & Retail",
          "Fashion & Retail",
          "Fashion & Retail",
          "Fashion & Retail",
          "Fashion & Retail",
          "Fashion & Retail",
          "Fashion & Retail",
          "Fashion & Retail",
          "Fashion & Retail",
          "Finance & Investments",
          "Finance & Investments",
          "Finance & Investments",
          "Finance & Investments",
          "Finance & Investments",
          "Finance & Investments",
          "Finance & Investments",
          "Finance & Investments",
          "Finance & Investments",
          "Finance & Investments",
          "Finance & Investments",
          "Finance & Investments",
          "Finance & Investments",
          "Finance & Investments",
          "Finance & Investments",
          "Finance & Investments",
          "Finance & Investments",
          "Finance & Investments",
          "Finance & Investments",
          "Finance & Investments",
          "Finance & Investments",
          "Finance & Investments",
          "Finance & Investments",
          "Finance & Investments",
          "Finance & Investments",
          "Finance & Investments",
          "Finance & Investments",
          "Finance & Investments",
          "Finance & Investments",
          "Finance & Investments",
          "Finance & Investments",
          "Finance & Investments",
          "Finance & Investments",
          "Finance & Investments",
          "Finance & Investments",
          "Finance & Investments",
          "Finance & Investments",
          "Finance & Investments",
          "Finance & Investments",
          "Finance & Investments",
          "Finance & Investments",
          "Finance & Investments",
          "Finance & Investments",
          "Finance & Investments",
          "Finance & Investments",
          "Finance & Investments",
          "Finance & Investments",
          "Food & Beverage",
          "Food & Beverage",
          "Food & Beverage",
          "Food & Beverage",
          "Food & Beverage",
          "Food & Beverage",
          "Food & Beverage",
          "Food & Beverage",
          "Food & Beverage",
          "Food & Beverage",
          "Food & Beverage",
          "Food & Beverage",
          "Food & Beverage",
          "Food & Beverage",
          "Food & Beverage",
          "Food & Beverage",
          "Food & Beverage",
          "Food & Beverage",
          "Food & Beverage",
          "Food & Beverage",
          "Food & Beverage",
          "Food & Beverage",
          "Food & Beverage",
          "Food & Beverage",
          "Food & Beverage",
          "Food & Beverage",
          "Food & Beverage",
          "Food & Beverage",
          "Food & Beverage",
          "Food & Beverage",
          "Food & Beverage",
          "Food & Beverage",
          "Food & Beverage",
          "Gambling & Casinos",
          "Gambling & Casinos",
          "Gambling & Casinos",
          "Gambling & Casinos",
          "Gambling & Casinos",
          "Gambling & Casinos",
          "Gambling & Casinos",
          "Gambling & Casinos",
          "Gambling & Casinos",
          "Gambling & Casinos",
          "Gambling & Casinos",
          "Gambling & Casinos",
          "Healthcare",
          "Healthcare",
          "Healthcare",
          "Healthcare",
          "Healthcare",
          "Healthcare",
          "Healthcare",
          "Healthcare",
          "Healthcare",
          "Healthcare",
          "Healthcare",
          "Healthcare",
          "Healthcare",
          "Healthcare",
          "Healthcare",
          "Healthcare",
          "Healthcare",
          "Healthcare",
          "Healthcare",
          "Healthcare",
          "Healthcare",
          "Healthcare",
          "Healthcare",
          "Logistics",
          "Logistics",
          "Logistics",
          "Logistics",
          "Logistics",
          "Logistics",
          "Logistics",
          "Logistics",
          "Logistics",
          "Logistics",
          "Logistics",
          "Logistics",
          "Logistics",
          "Logistics",
          "Logistics",
          "Logistics",
          "Manufacturing",
          "Manufacturing",
          "Manufacturing",
          "Manufacturing",
          "Manufacturing",
          "Manufacturing",
          "Manufacturing",
          "Manufacturing",
          "Manufacturing",
          "Manufacturing",
          "Manufacturing",
          "Manufacturing",
          "Manufacturing",
          "Manufacturing",
          "Manufacturing",
          "Manufacturing",
          "Manufacturing",
          "Manufacturing",
          "Manufacturing",
          "Manufacturing",
          "Manufacturing",
          "Manufacturing",
          "Manufacturing",
          "Manufacturing",
          "Manufacturing",
          "Manufacturing",
          "Manufacturing",
          "Manufacturing",
          "Manufacturing",
          "Manufacturing",
          "Manufacturing",
          "Manufacturing",
          "Manufacturing",
          "Manufacturing",
          "Manufacturing",
          "Manufacturing",
          "Media & Entertainment",
          "Media & Entertainment",
          "Media & Entertainment",
          "Media & Entertainment",
          "Media & Entertainment",
          "Media & Entertainment",
          "Media & Entertainment",
          "Media & Entertainment",
          "Media & Entertainment",
          "Media & Entertainment",
          "Media & Entertainment",
          "Media & Entertainment",
          "Media & Entertainment",
          "Media & Entertainment",
          "Media & Entertainment",
          "Media & Entertainment",
          "Media & Entertainment",
          "Media & Entertainment",
          "Media & Entertainment",
          "Media & Entertainment",
          "Media & Entertainment",
          "Metals & Mining",
          "Metals & Mining",
          "Metals & Mining",
          "Metals & Mining",
          "Metals & Mining",
          "Metals & Mining",
          "Metals & Mining",
          "Metals & Mining",
          "Metals & Mining",
          "Metals & Mining",
          "Metals & Mining",
          "Metals & Mining",
          "Metals & Mining",
          "Metals & Mining",
          "Metals & Mining",
          "Metals & Mining",
          "Metals & Mining",
          "Metals & Mining",
          "Metals & Mining",
          "Metals & Mining",
          "Real Estate",
          "Real Estate",
          "Real Estate",
          "Real Estate",
          "Real Estate",
          "Real Estate",
          "Real Estate",
          "Real Estate",
          "Real Estate",
          "Real Estate",
          "Real Estate",
          "Real Estate",
          "Real Estate",
          "Real Estate",
          "Real Estate",
          "Real Estate",
          "Real Estate",
          "Real Estate",
          "Real Estate",
          "Real Estate",
          "Real Estate",
          "Real Estate",
          "Real Estate",
          "Real Estate",
          "Real Estate",
          "Real Estate",
          "Real Estate",
          "Real Estate",
          "Service",
          "Service",
          "Service",
          "Service",
          "Service",
          "Service",
          "Service",
          "Service",
          "Service",
          "Service",
          "Service",
          "Service",
          "Service",
          "Service",
          "Service",
          "Service",
          "Service",
          "Sports",
          "Sports",
          "Sports",
          "Sports",
          "Sports",
          "Technology",
          "Technology",
          "Technology",
          "Technology",
          "Technology",
          "Technology",
          "Technology",
          "Technology",
          "Technology",
          "Technology",
          "Technology",
          "Technology",
          "Technology",
          "Technology",
          "Technology",
          "Technology",
          "Technology",
          "Technology",
          "Technology",
          "Technology",
          "Technology",
          "Technology",
          "Technology",
          "Telecom",
          "Telecom",
          "Telecom",
          "Telecom",
          "Telecom",
          "Telecom",
          "Telecom",
          "Telecom",
          "Telecom",
          "Telecom",
          "Telecom",
          "Telecom",
          "Telecom",
          "Telecom",
          "Telecom",
          "Telecom",
          "Telecom",
          "Telecom",
          "Telecom",
          "Algeria",
          "Andorra",
          "Argentina",
          "Armenia",
          "Australia",
          "Austria",
          "Bahamas",
          "Bahrain",
          "Belgium",
          "Bermuda",
          "Brazil",
          "British Virgin Islands",
          "Cambodia",
          "Canada",
          "Cayman Islands",
          "Chile",
          "China",
          "Colombia",
          "Cyprus",
          "Czech Republic",
          "Denmark",
          "Egypt",
          "Eswatini (Swaziland)",
          "Finland",
          "France",
          "Georgia",
          "Germany",
          "Greece",
          "Guernsey",
          "Hong Kong",
          "Hungary",
          "India",
          "Indonesia",
          "Ireland",
          "Israel",
          "Italy",
          "Japan",
          "Kazakhstan",
          "Latvia",
          "Lebanon",
          "Liechtenstein",
          "Luxembourg",
          "Malaysia",
          "Mexico",
          "Monaco",
          "Morocco",
          "Nepal",
          "Netherlands",
          "New Zealand",
          "Nigeria",
          "Norway",
          "Oman",
          "Peru",
          "Philippines",
          "Poland",
          "Portugal",
          "Qatar",
          "Romania",
          "Russia",
          "Singapore",
          "Slovakia",
          "South Africa",
          "South Korea",
          "Spain",
          "Sweden",
          "Switzerland",
          "Taiwan",
          "Tanzania",
          "Thailand",
          "Turkey",
          "Turks and Caicos Islands",
          "Ukraine",
          "United Arab Emirates",
          "United Kingdom",
          "United States",
          "Uruguay",
          "Uzbekistan",
          "Vietnam",
          "Asia",
          "Europe",
          "North America",
          "Oceania",
          "Other",
          "South America"
         ],
         "name": "",
         "parents": [
          "Other/Austria",
          "Asia/China",
          "Europe/France",
          "Europe/Germany",
          "Asia/India",
          "Other/Israel",
          "Other/Italy",
          "Other/Japan",
          "Other/Singapore",
          "Other/South Korea",
          "Other/Switzerland",
          "Other/Taiwan",
          "Other/United Arab Emirates",
          "North America/United States",
          "Other/Vietnam",
          "Other/Austria",
          "North America/Canada",
          "Asia/China",
          "Other/Egypt",
          "Europe/France",
          "Asia/India",
          "Other/Italy",
          "Other/Malaysia",
          "Other/Mexico",
          "Europe/Russia",
          "Other/South Korea",
          "Other/Spain",
          "Other/Switzerland",
          "Other/Turkey",
          "Other/United Arab Emirates",
          "Europe/United Kingdom",
          "North America/United States",
          "Other/Argentina",
          "Oceania/Australia",
          "Other/Austria",
          "South America/Brazil",
          "Other/British Virgin Islands",
          "North America/Canada",
          "Other/Chile",
          "Asia/China",
          "Other/Egypt",
          "Other/Finland",
          "Europe/France",
          "Europe/Germany",
          "Other/Greece",
          "Other/Hong Kong",
          "Other/Hungary",
          "Asia/India",
          "Other/Indonesia",
          "Other/Israel",
          "Other/Italy",
          "Other/Malaysia",
          "Other/Mexico",
          "Other/Monaco",
          "Other/Morocco",
          "Other/Nepal",
          "Other/Nigeria",
          "Other/Norway",
          "Other/Oman",
          "Other/Peru",
          "Other/Philippines",
          "Other/Poland",
          "Other/Portugal",
          "Other/Qatar",
          "Europe/Russia",
          "Other/Singapore",
          "Other/South Korea",
          "Other/Sweden",
          "Other/Switzerland",
          "Other/Taiwan",
          "Other/Tanzania",
          "Other/Thailand",
          "Other/Turkey",
          "Other/Ukraine",
          "Other/United Arab Emirates",
          "Europe/United Kingdom",
          "North America/United States",
          "Other/Vietnam",
          "Other/Argentina",
          "Oceania/Australia",
          "South America/Brazil",
          "North America/Canada",
          "Asia/China",
          "Other/Czech Republic",
          "Other/Finland",
          "Europe/France",
          "Other/Greece",
          "Other/Hong Kong",
          "Other/Indonesia",
          "Other/Italy",
          "Europe/Russia",
          "Other/Singapore",
          "Other/Switzerland",
          "Other/Thailand",
          "Other/Turkey",
          "Europe/United Kingdom",
          "North America/United States",
          "Other/Uruguay",
          "Oceania/Australia",
          "Other/Austria",
          "Other/Bahamas",
          "South America/Brazil",
          "North America/Canada",
          "Other/Cayman Islands",
          "Other/Chile",
          "Asia/China",
          "Other/Cyprus",
          "Other/Denmark",
          "Other/Eswatini (Swaziland)",
          "Europe/France",
          "Europe/Germany",
          "Other/Hong Kong",
          "Asia/India",
          "Other/Indonesia",
          "Other/Italy",
          "Other/Japan",
          "Other/Luxembourg",
          "Other/Malaysia",
          "Other/Mexico",
          "Other/Monaco",
          "Other/Norway",
          "Other/Poland",
          "Other/Romania",
          "Europe/Russia",
          "Other/Singapore",
          "Other/South Africa",
          "Other/South Korea",
          "Other/Spain",
          "Other/Sweden",
          "Other/Switzerland",
          "Other/Taiwan",
          "Other/Turkey",
          "Other/United Arab Emirates",
          "Europe/United Kingdom",
          "North America/United States",
          "Other/Armenia",
          "Oceania/Australia",
          "Other/Bahamas",
          "Other/Belgium",
          "South America/Brazil",
          "North America/Canada",
          "Other/Cayman Islands",
          "Other/Chile",
          "Asia/China",
          "Other/Colombia",
          "Other/Czech Republic",
          "Europe/France",
          "Other/Georgia",
          "Europe/Germany",
          "Other/Guernsey",
          "Other/Hong Kong",
          "Asia/India",
          "Other/Indonesia",
          "Other/Ireland",
          "Other/Israel",
          "Other/Italy",
          "Other/Kazakhstan",
          "Other/Latvia",
          "Other/Mexico",
          "Other/Monaco",
          "Other/Morocco",
          "Other/Netherlands",
          "Other/New Zealand",
          "Other/Peru",
          "Other/Poland",
          "Other/Qatar",
          "Other/Romania",
          "Europe/Russia",
          "Other/Singapore",
          "Other/Slovakia",
          "Other/South Africa",
          "Other/South Korea",
          "Other/Spain",
          "Other/Sweden",
          "Other/Switzerland",
          "Other/Taiwan",
          "Other/Thailand",
          "Other/Turks and Caicos Islands",
          "Other/United Arab Emirates",
          "Europe/United Kingdom",
          "North America/United States",
          "Other/Vietnam",
          "Other/Algeria",
          "Oceania/Australia",
          "Other/Austria",
          "Other/Belgium",
          "Other/Bermuda",
          "South America/Brazil",
          "North America/Canada",
          "Asia/China",
          "Other/Czech Republic",
          "Europe/France",
          "Europe/Germany",
          "Other/Hong Kong",
          "Asia/India",
          "Other/Indonesia",
          "Other/Ireland",
          "Other/Israel",
          "Other/Italy",
          "Other/Japan",
          "Other/Mexico",
          "Other/Monaco",
          "Other/Norway",
          "Other/Philippines",
          "Europe/Russia",
          "Other/Singapore",
          "Other/Spain",
          "Other/Switzerland",
          "Other/Taiwan",
          "Other/Thailand",
          "Other/Turkey",
          "Other/United Arab Emirates",
          "Europe/United Kingdom",
          "North America/United States",
          "Other/Vietnam",
          "Other/Austria",
          "Other/Cambodia",
          "Europe/Germany",
          "Other/Hong Kong",
          "Other/Israel",
          "Other/Japan",
          "Other/Malaysia",
          "Other/Spain",
          "Other/Sweden",
          "Other/Switzerland",
          "Europe/United Kingdom",
          "North America/United States",
          "South America/Brazil",
          "Asia/China",
          "Other/Denmark",
          "Other/Finland",
          "Europe/France",
          "Europe/Germany",
          "Other/Hong Kong",
          "Asia/India",
          "Other/Israel",
          "Other/Italy",
          "Other/Japan",
          "Other/Liechtenstein",
          "Other/Monaco",
          "Other/Poland",
          "Europe/Russia",
          "Other/Singapore",
          "Other/South Korea",
          "Other/Switzerland",
          "Other/Thailand",
          "Other/Turkey",
          "Other/United Arab Emirates",
          "Europe/United Kingdom",
          "North America/United States",
          "Oceania/Australia",
          "Asia/China",
          "Europe/France",
          "Other/Greece",
          "Other/Hong Kong",
          "Asia/India",
          "Other/Indonesia",
          "Other/Japan",
          "Other/Malaysia",
          "Other/Norway",
          "Other/Philippines",
          "Europe/Russia",
          "Other/Switzerland",
          "Other/Taiwan",
          "Europe/United Kingdom",
          "North America/United States",
          "Other/Andorra",
          "Oceania/Australia",
          "Other/Austria",
          "Other/Belgium",
          "South America/Brazil",
          "North America/Canada",
          "Asia/China",
          "Other/Denmark",
          "Other/Finland",
          "Europe/France",
          "Europe/Germany",
          "Other/Hong Kong",
          "Other/Hungary",
          "Asia/India",
          "Other/Indonesia",
          "Other/Ireland",
          "Other/Israel",
          "Other/Italy",
          "Other/Japan",
          "Other/Malaysia",
          "Other/Mexico",
          "Other/Monaco",
          "Other/Netherlands",
          "Other/Nigeria",
          "Europe/Russia",
          "Other/Singapore",
          "Other/South Korea",
          "Other/Spain",
          "Other/Sweden",
          "Other/Switzerland",
          "Other/Taiwan",
          "Other/Thailand",
          "Other/Turkey",
          "Europe/United Kingdom",
          "North America/United States",
          "Other/Vietnam",
          "Oceania/Australia",
          "South America/Brazil",
          "North America/Canada",
          "Other/Cayman Islands",
          "Asia/China",
          "Europe/Germany",
          "Asia/India",
          "Other/Indonesia",
          "Other/Israel",
          "Other/Japan",
          "Other/Netherlands",
          "Other/New Zealand",
          "Other/Poland",
          "Other/Singapore",
          "Other/South Africa",
          "Other/South Korea",
          "Other/Sweden",
          "Other/Thailand",
          "Other/Turkey",
          "Europe/United Kingdom",
          "North America/United States",
          "Oceania/Australia",
          "Other/Chile",
          "Asia/China",
          "Other/Czech Republic",
          "Asia/India",
          "Other/Indonesia",
          "Other/Israel",
          "Other/Italy",
          "Other/Kazakhstan",
          "Other/Mexico",
          "Europe/Russia",
          "Other/Singapore",
          "Other/South Africa",
          "Other/Spain",
          "Other/Switzerland",
          "Other/Ukraine",
          "Other/United Arab Emirates",
          "Europe/United Kingdom",
          "North America/United States",
          "Other/Uzbekistan",
          "Other/Argentina",
          "Oceania/Australia",
          "Other/Austria",
          "South America/Brazil",
          "North America/Canada",
          "Asia/China",
          "Europe/France",
          "Europe/Germany",
          "Other/Hong Kong",
          "Asia/India",
          "Other/Israel",
          "Other/Japan",
          "Other/Malaysia",
          "Other/Monaco",
          "Other/Netherlands",
          "Other/Norway",
          "Other/Philippines",
          "Europe/Russia",
          "Other/Singapore",
          "Other/Slovakia",
          "Other/Spain",
          "Other/Sweden",
          "Other/Switzerland",
          "Other/Taiwan",
          "Other/Thailand",
          "Other/United Arab Emirates",
          "Europe/United Kingdom",
          "North America/United States",
          "Other/Bahrain",
          "Asia/China",
          "Europe/France",
          "Europe/Germany",
          "Other/Hong Kong",
          "Asia/India",
          "Other/Israel",
          "Other/Japan",
          "Other/Mexico",
          "Other/Monaco",
          "Other/Netherlands",
          "Other/Norway",
          "Europe/Russia",
          "Other/Spain",
          "Other/Switzerland",
          "Other/United Arab Emirates",
          "North America/United States",
          "North America/Canada",
          "Other/Monaco",
          "Other/Switzerland",
          "Europe/United Kingdom",
          "North America/United States",
          "Other/Argentina",
          "Oceania/Australia",
          "North America/Canada",
          "Asia/China",
          "Other/Cyprus",
          "Other/Czech Republic",
          "Europe/Germany",
          "Other/Hong Kong",
          "Asia/India",
          "Other/Indonesia",
          "Other/Israel",
          "Other/Italy",
          "Other/Japan",
          "Other/Netherlands",
          "Europe/Russia",
          "Other/Singapore",
          "Other/South Korea",
          "Other/Sweden",
          "Other/Switzerland",
          "Other/Taiwan",
          "Other/United Arab Emirates",
          "Europe/United Kingdom",
          "North America/United States",
          "Oceania/Australia",
          "North America/Canada",
          "Asia/China",
          "Other/Cyprus",
          "Other/Egypt",
          "Europe/France",
          "Other/Hong Kong",
          "Asia/India",
          "Other/Ireland",
          "Other/Italy",
          "Other/Japan",
          "Other/Lebanon",
          "Other/Malaysia",
          "Other/Mexico",
          "Europe/Russia",
          "Other/Switzerland",
          "Other/Turkey",
          "Europe/United Kingdom",
          "North America/United States",
          "Other",
          "Other",
          "Other",
          "Other",
          "Oceania",
          "Other",
          "Other",
          "Other",
          "Other",
          "Other",
          "South America",
          "Other",
          "Other",
          "North America",
          "Other",
          "Other",
          "Asia",
          "Other",
          "Other",
          "Other",
          "Other",
          "Other",
          "Other",
          "Other",
          "Europe",
          "Other",
          "Europe",
          "Other",
          "Other",
          "Other",
          "Other",
          "Asia",
          "Other",
          "Other",
          "Other",
          "Other",
          "Other",
          "Other",
          "Other",
          "Other",
          "Other",
          "Other",
          "Other",
          "Other",
          "Other",
          "Other",
          "Other",
          "Other",
          "Other",
          "Other",
          "Other",
          "Other",
          "Other",
          "Other",
          "Other",
          "Other",
          "Other",
          "Other",
          "Europe",
          "Other",
          "Other",
          "Other",
          "Other",
          "Other",
          "Other",
          "Other",
          "Other",
          "Other",
          "Other",
          "Other",
          "Other",
          "Other",
          "Other",
          "Europe",
          "North America",
          "Other",
          "Other",
          "Other",
          "",
          "",
          "",
          "",
          "",
          ""
         ],
         "type": "sunburst",
         "values": [
          1600,
          156400,
          1700,
          71600,
          29500,
          5000,
          8400,
          1100,
          1100,
          6700,
          6900,
          1300,
          2400,
          225900,
          1500,
          2500,
          3300,
          7000,
          7400,
          6800,
          6100,
          7500,
          1600,
          1500,
          8600,
          1100,
          10900,
          8600,
          4200,
          4400,
          8800,
          20900,
          1900,
          4100,
          7900,
          18100,
          3400,
          19300,
          3400,
          47100,
          2800,
          1400,
          27100,
          2800,
          1600,
          49800,
          2700,
          201900,
          20100,
          1500,
          9400,
          11800,
          9900,
          28500,
          1500,
          1800,
          14300,
          3000,
          2700,
          1000,
          20900,
          1300,
          4700,
          1800,
          24300,
          13700,
          4700,
          27200,
          4500,
          6600,
          1500,
          40600,
          26500,
          2100,
          12800,
          60900,
          143800,
          6500,
          2900,
          1600,
          4000,
          5700,
          63800,
          9200,
          1900,
          6400,
          1900,
          12300,
          33200,
          1600,
          93200,
          3500,
          4000,
          15700,
          3600,
          26900,
          160300,
          1800,
          10100,
          12400,
          2200,
          12100,
          19500,
          1300,
          3700,
          101600,
          4200,
          7300,
          6500,
          338100,
          144900,
          9000,
          37300,
          4200,
          75400,
          56200,
          3500,
          1100,
          10900,
          11800,
          7600,
          4800,
          2800,
          19200,
          4800,
          11100,
          6700,
          95800,
          22700,
          21900,
          10800,
          2900,
          10500,
          22700,
          557600,
          1200,
          2600,
          6000,
          1100,
          27500,
          14700,
          3900,
          2900,
          25500,
          6400,
          18200,
          16800,
          4900,
          23300,
          2300,
          24400,
          25500,
          26100,
          2200,
          12600,
          9100,
          19000,
          4200,
          3300,
          9800,
          1300,
          2600,
          8600,
          1500,
          6200,
          1200,
          2000,
          22200,
          14300,
          1500,
          1000,
          13100,
          12300,
          18500,
          78300,
          26200,
          8400,
          2000,
          19800,
          54100,
          1003500,
          1500,
          4600,
          4000,
          34700,
          38900,
          4600,
          22900,
          16500,
          214800,
          4100,
          43000,
          13000,
          1000,
          32600,
          1800,
          2600,
          3400,
          9700,
          3200,
          10700,
          2000,
          2700,
          4600,
          5600,
          12600,
          3000,
          42000,
          6500,
          18900,
          5000,
          1500,
          41400,
          336300,
          1300,
          7100,
          2800,
          2400,
          18700,
          5600,
          4700,
          2300,
          1100,
          3100,
          8100,
          15100,
          49500,
          8800,
          211800,
          6800,
          2000,
          13000,
          68400,
          10200,
          97000,
          1500,
          15400,
          3100,
          2300,
          2000,
          4000,
          9100,
          1000,
          5600,
          50300,
          4800,
          1200,
          2200,
          5400,
          116200,
          3200,
          18700,
          31000,
          5600,
          13900,
          1300,
          1300,
          1600,
          1500,
          5100,
          7300,
          8500,
          102800,
          2500,
          13700,
          20500,
          1500,
          17200,
          3200,
          1200,
          4800,
          5700,
          373200,
          26800,
          8700,
          3100,
          72800,
          29100,
          1200,
          76200,
          27000,
          2100,
          17600,
          13700,
          24700,
          4000,
          3200,
          6400,
          5200,
          14200,
          31300,
          21500,
          1000,
          1600,
          1400,
          30200,
          19300,
          4600,
          10000,
          56200,
          90700,
          1800,
          8400,
          5400,
          57400,
          5700,
          20600,
          14400,
          2400,
          1000,
          3300,
          5300,
          3000,
          1500,
          2000,
          8700,
          2400,
          11300,
          2300,
          1800,
          1300,
          15200,
          246400,
          57300,
          26400,
          58400,
          8000,
          17500,
          6100,
          1200,
          1700,
          7300,
          30600,
          111400,
          5200,
          11100,
          1600,
          22100,
          10500,
          25200,
          23400,
          2000,
          14400,
          1300,
          26300,
          6000,
          1200,
          15100,
          89200,
          1700,
          14000,
          131500,
          28400,
          4900,
          8200,
          5600,
          2000,
          1700,
          7700,
          8600,
          11200,
          33300,
          1600,
          2500,
          10500,
          9700,
          9800,
          5900,
          6100,
          12900,
          191900,
          1500,
          52400,
          4100,
          3200,
          1300,
          6600,
          4200,
          1100,
          2600,
          4500,
          6200,
          1000,
          2600,
          4900,
          7100,
          3000,
          67100,
          2000,
          1000,
          1100,
          2900,
          127500,
          4900,
          37200,
          13100,
          361700,
          4300,
          3300,
          31300,
          15700,
          58400,
          3100,
          11700,
          1000,
          11400,
          6000,
          2100,
          18300,
          31200,
          5200,
          8000,
          34900,
          11500,
          5100,
          1197400,
          1500,
          1600,
          3300,
          1100,
          3300,
          6700,
          4600,
          8000,
          2700,
          4000,
          26200,
          5600,
          5200,
          93000,
          1700,
          4300,
          1000,
          6000,
          17600,
          4600,
          1500,
          11000,
          1200,
          173500,
          75400,
          8200,
          1500,
          41200,
          4600,
          104800,
          3400,
          2800,
          173900,
          10900,
          36400,
          1805500,
          6400,
          9600,
          42800,
          40900,
          13500,
          6500,
          14000,
          499500,
          4900,
          462100,
          9100,
          2300,
          321500,
          3900,
          628700,
          123900,
          9600,
          72500,
          156900,
          146800,
          26300,
          4200,
          5600,
          2300,
          3500,
          33100,
          165700,
          68000,
          2800,
          1800,
          24700,
          10100,
          28500,
          27100,
          2700,
          2500,
          41400,
          18300,
          4700,
          3000,
          4800,
          351000,
          138000,
          3100,
          25600,
          81400,
          133700,
          90900,
          409900,
          117900,
          1500,
          100700,
          55700,
          2000,
          12600,
          99400,
          370700,
          4575100,
          1800,
          14400,
          12600,
          2434200,
          1683300,
          4749000,
          173500,
          2970100,
          104800
         ]
        }
       ],
       "layout": {
        "legend": {
         "tracegroupgap": 0
        },
        "template": {
         "data": {
          "bar": [
           {
            "error_x": {
             "color": "#2a3f5f"
            },
            "error_y": {
             "color": "#2a3f5f"
            },
            "marker": {
             "line": {
              "color": "#E5ECF6",
              "width": 0.5
             },
             "pattern": {
              "fillmode": "overlay",
              "size": 10,
              "solidity": 0.2
             }
            },
            "type": "bar"
           }
          ],
          "barpolar": [
           {
            "marker": {
             "line": {
              "color": "#E5ECF6",
              "width": 0.5
             },
             "pattern": {
              "fillmode": "overlay",
              "size": 10,
              "solidity": 0.2
             }
            },
            "type": "barpolar"
           }
          ],
          "carpet": [
           {
            "aaxis": {
             "endlinecolor": "#2a3f5f",
             "gridcolor": "white",
             "linecolor": "white",
             "minorgridcolor": "white",
             "startlinecolor": "#2a3f5f"
            },
            "baxis": {
             "endlinecolor": "#2a3f5f",
             "gridcolor": "white",
             "linecolor": "white",
             "minorgridcolor": "white",
             "startlinecolor": "#2a3f5f"
            },
            "type": "carpet"
           }
          ],
          "choropleth": [
           {
            "colorbar": {
             "outlinewidth": 0,
             "ticks": ""
            },
            "type": "choropleth"
           }
          ],
          "contour": [
           {
            "colorbar": {
             "outlinewidth": 0,
             "ticks": ""
            },
            "colorscale": [
             [
              0,
              "#0d0887"
             ],
             [
              0.1111111111111111,
              "#46039f"
             ],
             [
              0.2222222222222222,
              "#7201a8"
             ],
             [
              0.3333333333333333,
              "#9c179e"
             ],
             [
              0.4444444444444444,
              "#bd3786"
             ],
             [
              0.5555555555555556,
              "#d8576b"
             ],
             [
              0.6666666666666666,
              "#ed7953"
             ],
             [
              0.7777777777777778,
              "#fb9f3a"
             ],
             [
              0.8888888888888888,
              "#fdca26"
             ],
             [
              1,
              "#f0f921"
             ]
            ],
            "type": "contour"
           }
          ],
          "contourcarpet": [
           {
            "colorbar": {
             "outlinewidth": 0,
             "ticks": ""
            },
            "type": "contourcarpet"
           }
          ],
          "heatmap": [
           {
            "colorbar": {
             "outlinewidth": 0,
             "ticks": ""
            },
            "colorscale": [
             [
              0,
              "#0d0887"
             ],
             [
              0.1111111111111111,
              "#46039f"
             ],
             [
              0.2222222222222222,
              "#7201a8"
             ],
             [
              0.3333333333333333,
              "#9c179e"
             ],
             [
              0.4444444444444444,
              "#bd3786"
             ],
             [
              0.5555555555555556,
              "#d8576b"
             ],
             [
              0.6666666666666666,
              "#ed7953"
             ],
             [
              0.7777777777777778,
              "#fb9f3a"
             ],
             [
              0.8888888888888888,
              "#fdca26"
             ],
             [
              1,
              "#f0f921"
             ]
            ],
            "type": "heatmap"
           }
          ],
          "heatmapgl": [
           {
            "colorbar": {
             "outlinewidth": 0,
             "ticks": ""
            },
            "colorscale": [
             [
              0,
              "#0d0887"
             ],
             [
              0.1111111111111111,
              "#46039f"
             ],
             [
              0.2222222222222222,
              "#7201a8"
             ],
             [
              0.3333333333333333,
              "#9c179e"
             ],
             [
              0.4444444444444444,
              "#bd3786"
             ],
             [
              0.5555555555555556,
              "#d8576b"
             ],
             [
              0.6666666666666666,
              "#ed7953"
             ],
             [
              0.7777777777777778,
              "#fb9f3a"
             ],
             [
              0.8888888888888888,
              "#fdca26"
             ],
             [
              1,
              "#f0f921"
             ]
            ],
            "type": "heatmapgl"
           }
          ],
          "histogram": [
           {
            "marker": {
             "pattern": {
              "fillmode": "overlay",
              "size": 10,
              "solidity": 0.2
             }
            },
            "type": "histogram"
           }
          ],
          "histogram2d": [
           {
            "colorbar": {
             "outlinewidth": 0,
             "ticks": ""
            },
            "colorscale": [
             [
              0,
              "#0d0887"
             ],
             [
              0.1111111111111111,
              "#46039f"
             ],
             [
              0.2222222222222222,
              "#7201a8"
             ],
             [
              0.3333333333333333,
              "#9c179e"
             ],
             [
              0.4444444444444444,
              "#bd3786"
             ],
             [
              0.5555555555555556,
              "#d8576b"
             ],
             [
              0.6666666666666666,
              "#ed7953"
             ],
             [
              0.7777777777777778,
              "#fb9f3a"
             ],
             [
              0.8888888888888888,
              "#fdca26"
             ],
             [
              1,
              "#f0f921"
             ]
            ],
            "type": "histogram2d"
           }
          ],
          "histogram2dcontour": [
           {
            "colorbar": {
             "outlinewidth": 0,
             "ticks": ""
            },
            "colorscale": [
             [
              0,
              "#0d0887"
             ],
             [
              0.1111111111111111,
              "#46039f"
             ],
             [
              0.2222222222222222,
              "#7201a8"
             ],
             [
              0.3333333333333333,
              "#9c179e"
             ],
             [
              0.4444444444444444,
              "#bd3786"
             ],
             [
              0.5555555555555556,
              "#d8576b"
             ],
             [
              0.6666666666666666,
              "#ed7953"
             ],
             [
              0.7777777777777778,
              "#fb9f3a"
             ],
             [
              0.8888888888888888,
              "#fdca26"
             ],
             [
              1,
              "#f0f921"
             ]
            ],
            "type": "histogram2dcontour"
           }
          ],
          "mesh3d": [
           {
            "colorbar": {
             "outlinewidth": 0,
             "ticks": ""
            },
            "type": "mesh3d"
           }
          ],
          "parcoords": [
           {
            "line": {
             "colorbar": {
              "outlinewidth": 0,
              "ticks": ""
             }
            },
            "type": "parcoords"
           }
          ],
          "pie": [
           {
            "automargin": true,
            "type": "pie"
           }
          ],
          "scatter": [
           {
            "fillpattern": {
             "fillmode": "overlay",
             "size": 10,
             "solidity": 0.2
            },
            "type": "scatter"
           }
          ],
          "scatter3d": [
           {
            "line": {
             "colorbar": {
              "outlinewidth": 0,
              "ticks": ""
             }
            },
            "marker": {
             "colorbar": {
              "outlinewidth": 0,
              "ticks": ""
             }
            },
            "type": "scatter3d"
           }
          ],
          "scattercarpet": [
           {
            "marker": {
             "colorbar": {
              "outlinewidth": 0,
              "ticks": ""
             }
            },
            "type": "scattercarpet"
           }
          ],
          "scattergeo": [
           {
            "marker": {
             "colorbar": {
              "outlinewidth": 0,
              "ticks": ""
             }
            },
            "type": "scattergeo"
           }
          ],
          "scattergl": [
           {
            "marker": {
             "colorbar": {
              "outlinewidth": 0,
              "ticks": ""
             }
            },
            "type": "scattergl"
           }
          ],
          "scattermapbox": [
           {
            "marker": {
             "colorbar": {
              "outlinewidth": 0,
              "ticks": ""
             }
            },
            "type": "scattermapbox"
           }
          ],
          "scatterpolar": [
           {
            "marker": {
             "colorbar": {
              "outlinewidth": 0,
              "ticks": ""
             }
            },
            "type": "scatterpolar"
           }
          ],
          "scatterpolargl": [
           {
            "marker": {
             "colorbar": {
              "outlinewidth": 0,
              "ticks": ""
             }
            },
            "type": "scatterpolargl"
           }
          ],
          "scatterternary": [
           {
            "marker": {
             "colorbar": {
              "outlinewidth": 0,
              "ticks": ""
             }
            },
            "type": "scatterternary"
           }
          ],
          "surface": [
           {
            "colorbar": {
             "outlinewidth": 0,
             "ticks": ""
            },
            "colorscale": [
             [
              0,
              "#0d0887"
             ],
             [
              0.1111111111111111,
              "#46039f"
             ],
             [
              0.2222222222222222,
              "#7201a8"
             ],
             [
              0.3333333333333333,
              "#9c179e"
             ],
             [
              0.4444444444444444,
              "#bd3786"
             ],
             [
              0.5555555555555556,
              "#d8576b"
             ],
             [
              0.6666666666666666,
              "#ed7953"
             ],
             [
              0.7777777777777778,
              "#fb9f3a"
             ],
             [
              0.8888888888888888,
              "#fdca26"
             ],
             [
              1,
              "#f0f921"
             ]
            ],
            "type": "surface"
           }
          ],
          "table": [
           {
            "cells": {
             "fill": {
              "color": "#EBF0F8"
             },
             "line": {
              "color": "white"
             }
            },
            "header": {
             "fill": {
              "color": "#C8D4E3"
             },
             "line": {
              "color": "white"
             }
            },
            "type": "table"
           }
          ]
         },
         "layout": {
          "annotationdefaults": {
           "arrowcolor": "#2a3f5f",
           "arrowhead": 0,
           "arrowwidth": 1
          },
          "autotypenumbers": "strict",
          "coloraxis": {
           "colorbar": {
            "outlinewidth": 0,
            "ticks": ""
           }
          },
          "colorscale": {
           "diverging": [
            [
             0,
             "#8e0152"
            ],
            [
             0.1,
             "#c51b7d"
            ],
            [
             0.2,
             "#de77ae"
            ],
            [
             0.3,
             "#f1b6da"
            ],
            [
             0.4,
             "#fde0ef"
            ],
            [
             0.5,
             "#f7f7f7"
            ],
            [
             0.6,
             "#e6f5d0"
            ],
            [
             0.7,
             "#b8e186"
            ],
            [
             0.8,
             "#7fbc41"
            ],
            [
             0.9,
             "#4d9221"
            ],
            [
             1,
             "#276419"
            ]
           ],
           "sequential": [
            [
             0,
             "#0d0887"
            ],
            [
             0.1111111111111111,
             "#46039f"
            ],
            [
             0.2222222222222222,
             "#7201a8"
            ],
            [
             0.3333333333333333,
             "#9c179e"
            ],
            [
             0.4444444444444444,
             "#bd3786"
            ],
            [
             0.5555555555555556,
             "#d8576b"
            ],
            [
             0.6666666666666666,
             "#ed7953"
            ],
            [
             0.7777777777777778,
             "#fb9f3a"
            ],
            [
             0.8888888888888888,
             "#fdca26"
            ],
            [
             1,
             "#f0f921"
            ]
           ],
           "sequentialminus": [
            [
             0,
             "#0d0887"
            ],
            [
             0.1111111111111111,
             "#46039f"
            ],
            [
             0.2222222222222222,
             "#7201a8"
            ],
            [
             0.3333333333333333,
             "#9c179e"
            ],
            [
             0.4444444444444444,
             "#bd3786"
            ],
            [
             0.5555555555555556,
             "#d8576b"
            ],
            [
             0.6666666666666666,
             "#ed7953"
            ],
            [
             0.7777777777777778,
             "#fb9f3a"
            ],
            [
             0.8888888888888888,
             "#fdca26"
            ],
            [
             1,
             "#f0f921"
            ]
           ]
          },
          "colorway": [
           "#636efa",
           "#EF553B",
           "#00cc96",
           "#ab63fa",
           "#FFA15A",
           "#19d3f3",
           "#FF6692",
           "#B6E880",
           "#FF97FF",
           "#FECB52"
          ],
          "font": {
           "color": "#2a3f5f"
          },
          "geo": {
           "bgcolor": "white",
           "lakecolor": "white",
           "landcolor": "#E5ECF6",
           "showlakes": true,
           "showland": true,
           "subunitcolor": "white"
          },
          "hoverlabel": {
           "align": "left"
          },
          "hovermode": "closest",
          "mapbox": {
           "style": "light"
          },
          "paper_bgcolor": "white",
          "plot_bgcolor": "#E5ECF6",
          "polar": {
           "angularaxis": {
            "gridcolor": "white",
            "linecolor": "white",
            "ticks": ""
           },
           "bgcolor": "#E5ECF6",
           "radialaxis": {
            "gridcolor": "white",
            "linecolor": "white",
            "ticks": ""
           }
          },
          "scene": {
           "xaxis": {
            "backgroundcolor": "#E5ECF6",
            "gridcolor": "white",
            "gridwidth": 2,
            "linecolor": "white",
            "showbackground": true,
            "ticks": "",
            "zerolinecolor": "white"
           },
           "yaxis": {
            "backgroundcolor": "#E5ECF6",
            "gridcolor": "white",
            "gridwidth": 2,
            "linecolor": "white",
            "showbackground": true,
            "ticks": "",
            "zerolinecolor": "white"
           },
           "zaxis": {
            "backgroundcolor": "#E5ECF6",
            "gridcolor": "white",
            "gridwidth": 2,
            "linecolor": "white",
            "showbackground": true,
            "ticks": "",
            "zerolinecolor": "white"
           }
          },
          "shapedefaults": {
           "line": {
            "color": "#2a3f5f"
           }
          },
          "ternary": {
           "aaxis": {
            "gridcolor": "white",
            "linecolor": "white",
            "ticks": ""
           },
           "baxis": {
            "gridcolor": "white",
            "linecolor": "white",
            "ticks": ""
           },
           "bgcolor": "#E5ECF6",
           "caxis": {
            "gridcolor": "white",
            "linecolor": "white",
            "ticks": ""
           }
          },
          "title": {
           "x": 0.05
          },
          "xaxis": {
           "automargin": true,
           "gridcolor": "white",
           "linecolor": "white",
           "ticks": "",
           "title": {
            "standoff": 15
           },
           "zerolinecolor": "white",
           "zerolinewidth": 2
          },
          "yaxis": {
           "automargin": true,
           "gridcolor": "white",
           "linecolor": "white",
           "ticks": "",
           "title": {
            "standoff": 15
           },
           "zerolinecolor": "white",
           "zerolinewidth": 2
          }
         }
        },
        "title": {
         "text": "Distribuição Hierárquica do Patrimônio Líquido de Bilionários"
        }
       }
      }
     },
     "metadata": {},
     "output_type": "display_data"
    }
   ],
   "source": [
    "import pandas as pd\n",
    "import plotly.express as px\n",
    "\n",
    "# 1. Carregar dataset\n",
    "df = pd.read_csv('static/Billionaires Statistics Dataset.csv')\n",
    "\n",
    "# 2. Configurar colunas\n",
    "country_col = 'country'\n",
    "industry_col = 'industries'\n",
    "net_col = 'finalWorth'\n",
    "\n",
    "# 3. Criar coluna de Região (exemplo de mapeamento manual)\n",
    "continent_map = {\n",
    "    'United States': 'North America',\n",
    "    'China': 'Asia',\n",
    "    'India': 'Asia',\n",
    "    'Germany': 'Europe',\n",
    "    'France': 'Europe',\n",
    "    'United Kingdom': 'Europe',\n",
    "    'Russia': 'Europe',\n",
    "    'Brazil': 'South America',\n",
    "    'Canada': 'North America',\n",
    "    'Australia': 'Oceania'\n",
    "}\n",
    "df['Region'] = df[country_col].map(continent_map).fillna('Other')\n",
    "\n",
    "# 4. Agregar patrimônio líquido por Região → País → Indústria\n",
    "agg = (\n",
    "    df.groupby(['Region', country_col, industry_col])[net_col]\n",
    "      .sum()\n",
    "      .reset_index()\n",
    "      .rename(columns={country_col: 'Country', industry_col: 'Industry', net_col: 'NetWorth'})\n",
    ")\n",
    "\n",
    "# 5. Gerar gráfico Sunburst hierárquico\n",
    "fig = px.sunburst(\n",
    "    agg,\n",
    "    path=['Region', 'Country', 'Industry'],\n",
    "    values='NetWorth',\n",
    "    title='Distribuição Hierárquica do Patrimônio Líquido de Bilionários'\n",
    ")\n",
    "fig.show()\n"
   ]
  },
  {
   "cell_type": "code",
   "execution_count": 4,
   "metadata": {},
   "outputs": [
    {
     "data": {
      "application/vnd.plotly.v1+json": {
       "config": {
        "plotlyServerURL": "https://plot.ly"
       },
       "data": [
        {
         "arrangement": "snap",
         "link": {
          "source": [
           0,
           0,
           0,
           0,
           0,
           6,
           6,
           6,
           6,
           7,
           7,
           7,
           7,
           7,
           8,
           8,
           8,
           8,
           8,
           9,
           9,
           9,
           9,
           9
          ],
          "target": [
           1,
           2,
           3,
           4,
           5,
           1,
           2,
           3,
           4,
           1,
           2,
           3,
           4,
           5,
           1,
           2,
           3,
           4,
           5,
           1,
           2,
           3,
           4,
           5
          ],
          "value": [
           101600,
           25500,
           214800,
           373200,
           361700,
           338100,
           16800,
           43000,
           3100,
           144900,
           23300,
           13000,
           72800,
           31300,
           37300,
           25500,
           32600,
           76200,
           58400,
           557600,
           1003500,
           336300,
           90700,
           1197400
          ]
         },
         "node": {
          "label": [
           "China",
           "Fashion & Retail",
           "Finance & Investments",
           "Food & Beverage",
           "Manufacturing",
           "Technology",
           "France",
           "Germany",
           "India",
           "United States"
          ],
          "pad": 15,
          "thickness": 20
         },
         "type": "sankey"
        }
       ],
       "layout": {
        "font": {
         "size": 10
        },
        "template": {
         "data": {
          "bar": [
           {
            "error_x": {
             "color": "#2a3f5f"
            },
            "error_y": {
             "color": "#2a3f5f"
            },
            "marker": {
             "line": {
              "color": "#E5ECF6",
              "width": 0.5
             },
             "pattern": {
              "fillmode": "overlay",
              "size": 10,
              "solidity": 0.2
             }
            },
            "type": "bar"
           }
          ],
          "barpolar": [
           {
            "marker": {
             "line": {
              "color": "#E5ECF6",
              "width": 0.5
             },
             "pattern": {
              "fillmode": "overlay",
              "size": 10,
              "solidity": 0.2
             }
            },
            "type": "barpolar"
           }
          ],
          "carpet": [
           {
            "aaxis": {
             "endlinecolor": "#2a3f5f",
             "gridcolor": "white",
             "linecolor": "white",
             "minorgridcolor": "white",
             "startlinecolor": "#2a3f5f"
            },
            "baxis": {
             "endlinecolor": "#2a3f5f",
             "gridcolor": "white",
             "linecolor": "white",
             "minorgridcolor": "white",
             "startlinecolor": "#2a3f5f"
            },
            "type": "carpet"
           }
          ],
          "choropleth": [
           {
            "colorbar": {
             "outlinewidth": 0,
             "ticks": ""
            },
            "type": "choropleth"
           }
          ],
          "contour": [
           {
            "colorbar": {
             "outlinewidth": 0,
             "ticks": ""
            },
            "colorscale": [
             [
              0,
              "#0d0887"
             ],
             [
              0.1111111111111111,
              "#46039f"
             ],
             [
              0.2222222222222222,
              "#7201a8"
             ],
             [
              0.3333333333333333,
              "#9c179e"
             ],
             [
              0.4444444444444444,
              "#bd3786"
             ],
             [
              0.5555555555555556,
              "#d8576b"
             ],
             [
              0.6666666666666666,
              "#ed7953"
             ],
             [
              0.7777777777777778,
              "#fb9f3a"
             ],
             [
              0.8888888888888888,
              "#fdca26"
             ],
             [
              1,
              "#f0f921"
             ]
            ],
            "type": "contour"
           }
          ],
          "contourcarpet": [
           {
            "colorbar": {
             "outlinewidth": 0,
             "ticks": ""
            },
            "type": "contourcarpet"
           }
          ],
          "heatmap": [
           {
            "colorbar": {
             "outlinewidth": 0,
             "ticks": ""
            },
            "colorscale": [
             [
              0,
              "#0d0887"
             ],
             [
              0.1111111111111111,
              "#46039f"
             ],
             [
              0.2222222222222222,
              "#7201a8"
             ],
             [
              0.3333333333333333,
              "#9c179e"
             ],
             [
              0.4444444444444444,
              "#bd3786"
             ],
             [
              0.5555555555555556,
              "#d8576b"
             ],
             [
              0.6666666666666666,
              "#ed7953"
             ],
             [
              0.7777777777777778,
              "#fb9f3a"
             ],
             [
              0.8888888888888888,
              "#fdca26"
             ],
             [
              1,
              "#f0f921"
             ]
            ],
            "type": "heatmap"
           }
          ],
          "heatmapgl": [
           {
            "colorbar": {
             "outlinewidth": 0,
             "ticks": ""
            },
            "colorscale": [
             [
              0,
              "#0d0887"
             ],
             [
              0.1111111111111111,
              "#46039f"
             ],
             [
              0.2222222222222222,
              "#7201a8"
             ],
             [
              0.3333333333333333,
              "#9c179e"
             ],
             [
              0.4444444444444444,
              "#bd3786"
             ],
             [
              0.5555555555555556,
              "#d8576b"
             ],
             [
              0.6666666666666666,
              "#ed7953"
             ],
             [
              0.7777777777777778,
              "#fb9f3a"
             ],
             [
              0.8888888888888888,
              "#fdca26"
             ],
             [
              1,
              "#f0f921"
             ]
            ],
            "type": "heatmapgl"
           }
          ],
          "histogram": [
           {
            "marker": {
             "pattern": {
              "fillmode": "overlay",
              "size": 10,
              "solidity": 0.2
             }
            },
            "type": "histogram"
           }
          ],
          "histogram2d": [
           {
            "colorbar": {
             "outlinewidth": 0,
             "ticks": ""
            },
            "colorscale": [
             [
              0,
              "#0d0887"
             ],
             [
              0.1111111111111111,
              "#46039f"
             ],
             [
              0.2222222222222222,
              "#7201a8"
             ],
             [
              0.3333333333333333,
              "#9c179e"
             ],
             [
              0.4444444444444444,
              "#bd3786"
             ],
             [
              0.5555555555555556,
              "#d8576b"
             ],
             [
              0.6666666666666666,
              "#ed7953"
             ],
             [
              0.7777777777777778,
              "#fb9f3a"
             ],
             [
              0.8888888888888888,
              "#fdca26"
             ],
             [
              1,
              "#f0f921"
             ]
            ],
            "type": "histogram2d"
           }
          ],
          "histogram2dcontour": [
           {
            "colorbar": {
             "outlinewidth": 0,
             "ticks": ""
            },
            "colorscale": [
             [
              0,
              "#0d0887"
             ],
             [
              0.1111111111111111,
              "#46039f"
             ],
             [
              0.2222222222222222,
              "#7201a8"
             ],
             [
              0.3333333333333333,
              "#9c179e"
             ],
             [
              0.4444444444444444,
              "#bd3786"
             ],
             [
              0.5555555555555556,
              "#d8576b"
             ],
             [
              0.6666666666666666,
              "#ed7953"
             ],
             [
              0.7777777777777778,
              "#fb9f3a"
             ],
             [
              0.8888888888888888,
              "#fdca26"
             ],
             [
              1,
              "#f0f921"
             ]
            ],
            "type": "histogram2dcontour"
           }
          ],
          "mesh3d": [
           {
            "colorbar": {
             "outlinewidth": 0,
             "ticks": ""
            },
            "type": "mesh3d"
           }
          ],
          "parcoords": [
           {
            "line": {
             "colorbar": {
              "outlinewidth": 0,
              "ticks": ""
             }
            },
            "type": "parcoords"
           }
          ],
          "pie": [
           {
            "automargin": true,
            "type": "pie"
           }
          ],
          "scatter": [
           {
            "fillpattern": {
             "fillmode": "overlay",
             "size": 10,
             "solidity": 0.2
            },
            "type": "scatter"
           }
          ],
          "scatter3d": [
           {
            "line": {
             "colorbar": {
              "outlinewidth": 0,
              "ticks": ""
             }
            },
            "marker": {
             "colorbar": {
              "outlinewidth": 0,
              "ticks": ""
             }
            },
            "type": "scatter3d"
           }
          ],
          "scattercarpet": [
           {
            "marker": {
             "colorbar": {
              "outlinewidth": 0,
              "ticks": ""
             }
            },
            "type": "scattercarpet"
           }
          ],
          "scattergeo": [
           {
            "marker": {
             "colorbar": {
              "outlinewidth": 0,
              "ticks": ""
             }
            },
            "type": "scattergeo"
           }
          ],
          "scattergl": [
           {
            "marker": {
             "colorbar": {
              "outlinewidth": 0,
              "ticks": ""
             }
            },
            "type": "scattergl"
           }
          ],
          "scattermapbox": [
           {
            "marker": {
             "colorbar": {
              "outlinewidth": 0,
              "ticks": ""
             }
            },
            "type": "scattermapbox"
           }
          ],
          "scatterpolar": [
           {
            "marker": {
             "colorbar": {
              "outlinewidth": 0,
              "ticks": ""
             }
            },
            "type": "scatterpolar"
           }
          ],
          "scatterpolargl": [
           {
            "marker": {
             "colorbar": {
              "outlinewidth": 0,
              "ticks": ""
             }
            },
            "type": "scatterpolargl"
           }
          ],
          "scatterternary": [
           {
            "marker": {
             "colorbar": {
              "outlinewidth": 0,
              "ticks": ""
             }
            },
            "type": "scatterternary"
           }
          ],
          "surface": [
           {
            "colorbar": {
             "outlinewidth": 0,
             "ticks": ""
            },
            "colorscale": [
             [
              0,
              "#0d0887"
             ],
             [
              0.1111111111111111,
              "#46039f"
             ],
             [
              0.2222222222222222,
              "#7201a8"
             ],
             [
              0.3333333333333333,
              "#9c179e"
             ],
             [
              0.4444444444444444,
              "#bd3786"
             ],
             [
              0.5555555555555556,
              "#d8576b"
             ],
             [
              0.6666666666666666,
              "#ed7953"
             ],
             [
              0.7777777777777778,
              "#fb9f3a"
             ],
             [
              0.8888888888888888,
              "#fdca26"
             ],
             [
              1,
              "#f0f921"
             ]
            ],
            "type": "surface"
           }
          ],
          "table": [
           {
            "cells": {
             "fill": {
              "color": "#EBF0F8"
             },
             "line": {
              "color": "white"
             }
            },
            "header": {
             "fill": {
              "color": "#C8D4E3"
             },
             "line": {
              "color": "white"
             }
            },
            "type": "table"
           }
          ]
         },
         "layout": {
          "annotationdefaults": {
           "arrowcolor": "#2a3f5f",
           "arrowhead": 0,
           "arrowwidth": 1
          },
          "autotypenumbers": "strict",
          "coloraxis": {
           "colorbar": {
            "outlinewidth": 0,
            "ticks": ""
           }
          },
          "colorscale": {
           "diverging": [
            [
             0,
             "#8e0152"
            ],
            [
             0.1,
             "#c51b7d"
            ],
            [
             0.2,
             "#de77ae"
            ],
            [
             0.3,
             "#f1b6da"
            ],
            [
             0.4,
             "#fde0ef"
            ],
            [
             0.5,
             "#f7f7f7"
            ],
            [
             0.6,
             "#e6f5d0"
            ],
            [
             0.7,
             "#b8e186"
            ],
            [
             0.8,
             "#7fbc41"
            ],
            [
             0.9,
             "#4d9221"
            ],
            [
             1,
             "#276419"
            ]
           ],
           "sequential": [
            [
             0,
             "#0d0887"
            ],
            [
             0.1111111111111111,
             "#46039f"
            ],
            [
             0.2222222222222222,
             "#7201a8"
            ],
            [
             0.3333333333333333,
             "#9c179e"
            ],
            [
             0.4444444444444444,
             "#bd3786"
            ],
            [
             0.5555555555555556,
             "#d8576b"
            ],
            [
             0.6666666666666666,
             "#ed7953"
            ],
            [
             0.7777777777777778,
             "#fb9f3a"
            ],
            [
             0.8888888888888888,
             "#fdca26"
            ],
            [
             1,
             "#f0f921"
            ]
           ],
           "sequentialminus": [
            [
             0,
             "#0d0887"
            ],
            [
             0.1111111111111111,
             "#46039f"
            ],
            [
             0.2222222222222222,
             "#7201a8"
            ],
            [
             0.3333333333333333,
             "#9c179e"
            ],
            [
             0.4444444444444444,
             "#bd3786"
            ],
            [
             0.5555555555555556,
             "#d8576b"
            ],
            [
             0.6666666666666666,
             "#ed7953"
            ],
            [
             0.7777777777777778,
             "#fb9f3a"
            ],
            [
             0.8888888888888888,
             "#fdca26"
            ],
            [
             1,
             "#f0f921"
            ]
           ]
          },
          "colorway": [
           "#636efa",
           "#EF553B",
           "#00cc96",
           "#ab63fa",
           "#FFA15A",
           "#19d3f3",
           "#FF6692",
           "#B6E880",
           "#FF97FF",
           "#FECB52"
          ],
          "font": {
           "color": "#2a3f5f"
          },
          "geo": {
           "bgcolor": "white",
           "lakecolor": "white",
           "landcolor": "#E5ECF6",
           "showlakes": true,
           "showland": true,
           "subunitcolor": "white"
          },
          "hoverlabel": {
           "align": "left"
          },
          "hovermode": "closest",
          "mapbox": {
           "style": "light"
          },
          "paper_bgcolor": "white",
          "plot_bgcolor": "#E5ECF6",
          "polar": {
           "angularaxis": {
            "gridcolor": "white",
            "linecolor": "white",
            "ticks": ""
           },
           "bgcolor": "#E5ECF6",
           "radialaxis": {
            "gridcolor": "white",
            "linecolor": "white",
            "ticks": ""
           }
          },
          "scene": {
           "xaxis": {
            "backgroundcolor": "#E5ECF6",
            "gridcolor": "white",
            "gridwidth": 2,
            "linecolor": "white",
            "showbackground": true,
            "ticks": "",
            "zerolinecolor": "white"
           },
           "yaxis": {
            "backgroundcolor": "#E5ECF6",
            "gridcolor": "white",
            "gridwidth": 2,
            "linecolor": "white",
            "showbackground": true,
            "ticks": "",
            "zerolinecolor": "white"
           },
           "zaxis": {
            "backgroundcolor": "#E5ECF6",
            "gridcolor": "white",
            "gridwidth": 2,
            "linecolor": "white",
            "showbackground": true,
            "ticks": "",
            "zerolinecolor": "white"
           }
          },
          "shapedefaults": {
           "line": {
            "color": "#2a3f5f"
           }
          },
          "ternary": {
           "aaxis": {
            "gridcolor": "white",
            "linecolor": "white",
            "ticks": ""
           },
           "baxis": {
            "gridcolor": "white",
            "linecolor": "white",
            "ticks": ""
           },
           "bgcolor": "#E5ECF6",
           "caxis": {
            "gridcolor": "white",
            "linecolor": "white",
            "ticks": ""
           }
          },
          "title": {
           "x": 0.05
          },
          "xaxis": {
           "automargin": true,
           "gridcolor": "white",
           "linecolor": "white",
           "ticks": "",
           "title": {
            "standoff": 15
           },
           "zerolinecolor": "white",
           "zerolinewidth": 2
          },
          "yaxis": {
           "automargin": true,
           "gridcolor": "white",
           "linecolor": "white",
           "ticks": "",
           "title": {
            "standoff": 15
           },
           "zerolinecolor": "white",
           "zerolinewidth": 2
          }
         }
        },
        "title": {
         "text": "Fluxo de Riqueza (finalWorth) por País → Indústria (Top 5 cada)"
        }
       }
      }
     },
     "metadata": {},
     "output_type": "display_data"
    }
   ],
   "source": [
    "import pandas as pd\n",
    "import plotly.graph_objects as go\n",
    "\n",
    "\n",
    "# Seleciona colunas e agregações:\n",
    "# Top 5 países por soma de patrimônio e top 5 indústrias\n",
    "top_countries = df.groupby('country')['finalWorth'].sum().nlargest(5).index.tolist()\n",
    "top_industries = df.groupby('industries')['finalWorth'].sum().nlargest(5).index.tolist()\n",
    "\n",
    "# Agrupa fluxos entre esses países e indústrias\n",
    "flow = (\n",
    "    df[df['country'].isin(top_countries) & df['industries'].isin(top_industries)]\n",
    "    .groupby(['country', 'industries'])['finalWorth']\n",
    "    .sum()\n",
    "    .reset_index(name='totalWorth')\n",
    ")\n",
    "\n",
    "# Prepara labels únicos\n",
    "labels = list(pd.unique(flow[['country', 'industries']].values.ravel()))\n",
    "\n",
    "# Mapeia fontes e destinos para índices\n",
    "source_indices = flow['country'].apply(lambda x: labels.index(x))\n",
    "target_indices = flow['industries'].apply(lambda x: labels.index(x))\n",
    "values = flow['totalWorth']\n",
    "\n",
    "# Cria o diagrama Sankey\n",
    "fig = go.Figure(go.Sankey(\n",
    "    arrangement=\"snap\",\n",
    "    node=dict(label=labels, pad=15, thickness=20),\n",
    "    link=dict(source=source_indices, target=target_indices, value=values)\n",
    "))\n",
    "\n",
    "fig.update_layout(\n",
    "    title_text=\"Fluxo de Riqueza (finalWorth) por País → Indústria (Top 5 cada)\",\n",
    "    font_size=10\n",
    ")\n"
   ]
  },
  {
   "cell_type": "code",
   "execution_count": 2,
   "metadata": {},
   "outputs": [
    {
     "data": {
      "text/plain": [
       "Index(['rank', 'finalWorth', 'category', 'personName', 'age', 'country',\n",
       "       'city', 'source', 'industries', 'countryOfCitizenship', 'organization',\n",
       "       'selfMade', 'status', 'gender', 'birthDate', 'lastName', 'firstName',\n",
       "       'title', 'date', 'state', 'residenceStateRegion', 'birthYear',\n",
       "       'birthMonth', 'birthDay', 'cpi_country', 'cpi_change_country',\n",
       "       'gdp_country', 'gross_tertiary_education_enrollment',\n",
       "       'gross_primary_education_enrollment_country', 'life_expectancy_country',\n",
       "       'tax_revenue_country_country', 'total_tax_rate_country',\n",
       "       'population_country', 'latitude_country', 'longitude_country',\n",
       "       'Region'],\n",
       "      dtype='object')"
      ]
     },
     "execution_count": 2,
     "metadata": {},
     "output_type": "execute_result"
    }
   ],
   "source": [
    "df.columns\n"
   ]
  }
 ],
 "metadata": {
  "kernelspec": {
   "display_name": "base",
   "language": "python",
   "name": "python3"
  },
  "language_info": {
   "codemirror_mode": {
    "name": "ipython",
    "version": 3
   },
   "file_extension": ".py",
   "mimetype": "text/x-python",
   "name": "python",
   "nbconvert_exporter": "python",
   "pygments_lexer": "ipython3",
   "version": "3.12.4"
  }
 },
 "nbformat": 4,
 "nbformat_minor": 2
}
